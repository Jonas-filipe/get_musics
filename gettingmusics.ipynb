{
 "cells": [
  {
   "cell_type": "code",
   "execution_count": null,
   "metadata": {},
   "outputs": [],
   "source": [
    "import numpy as np\n",
    "import pandas as pd\n",
    "import sys\n",
    "import time\n",
    "import tabula\n",
    "from selenium import webdriver\n",
    "from selenium.webdriver.common.by import By\n",
    "from selenium.webdriver.chrome.options import Options\n",
    "from selenium.webdriver.chrome.service import Service\n",
    "from selenium.webdriver.common.keys import Keys\n",
    "from selenium.webdriver.common.action_chains import ActionChains\n",
    "from webdriver_manager.chrome import ChromeDriverManager\n",
    "from selenium.webdriver.common.desired_capabilities import DesiredCapabilities\n",
    "from selenium.webdriver.support.ui import WebDriverWait\n",
    "from selenium.webdriver.support import expected_conditions as EC"
   ]
  },
  {
   "cell_type": "code",
   "execution_count": null,
   "metadata": {},
   "outputs": [],
   "source": [
    "# chrome_options = Options()\n",
    "# chrome_options.add_argument(\"--headless\")"
   ]
  },
  {
   "cell_type": "code",
   "execution_count": null,
   "metadata": {},
   "outputs": [],
   "source": [
    "# import requests\n",
    "# url = \"https://www.crowley.com.br/cbab/relatorios/mailing_anual/TOP100BrasilTheCrowleyOfficialBroadcast2021.pdf\"\n",
    "# response = requests.get(url)\n",
    "# response = requests.get(url.get('href'))\n",
    "# pdf = open(\"pdf1.pdf\", 'wb')\n",
    "# pdf.write(response.content)\n",
    "# pdf.close()"
   ]
  },
  {
   "cell_type": "code",
   "execution_count": null,
   "metadata": {},
   "outputs": [],
   "source": [
    "# import requests\n",
    "# import os\n",
    "# url = \"https://www.crowley.com.br/cbab/relatorios/mailing_anual/TOP100BrasilTheCrowleyOfficialBroadcast2021.pdf\"\n",
    "# response = requests.get(url, stream=True)\n",
    "\n",
    "# # isolate PDF filename from URL\n",
    "# pdf_file_name = os.path.basename(url)\n",
    "# if response.status_code == 200:\n",
    "#     # Save in current working directory\n",
    "#     filepath = os.path.join(os.getcwd(), pdf_file_name)\n",
    "#     with open(filepath, 'wb') as pdf_object:\n",
    "#         pdf_object.write(response.content)\n",
    "#         print(f'{pdf_file_name} was successfully saved!')\n",
    "# else:\n",
    "#     print(f'Uh oh! Could not download {pdf_file_name},')\n",
    "#     print(f'HTTP response status code: {response.status_code}')"
   ]
  },
  {
   "cell_type": "code",
   "execution_count": null,
   "metadata": {},
   "outputs": [],
   "source": [
    "file_path = \"/Users/jonas/Documents/GitHub/get_musics/TOP100BrasilTheCrowleyOfficialBroadcast2021.pdf\"\n",
    "arquivo_pdf = tabula.read_pdf(file_path, pages='all')\n",
    "df = arquivo_pdf[0]\n",
    "df.rename(columns={df.columns[0]: \"Ranking\", df.columns[1]: \"Titulo\", df.columns[2]: \"Artista\", df.columns[3]: \"Selo\", df.columns[4]: \"Execucoes\"}, inplace=True)\n",
    "a = arquivo_pdf[2]\n",
    "a.rename(columns={a.columns[0]: \"Ranking\", a.columns[1]: \"Titulo\", a.columns[2]: \"Artista\", a.columns[3]: \"Selo\", a.columns[4]: \"Execucoes\"}, inplace=True)\n",
    "a.Ranking = pd.to_numeric(a.Ranking)\n",
    "df = df.loc[df.index[3:]]\n",
    "df.Ranking = pd.to_numeric(df.Ranking)\n",
    "df = df.append(a)\n",
    "df.sort_values(by=['Ranking'], inplace=True)\n",
    "df.reset_index(drop=True, inplace=True)\n",
    "df.head(10)"
   ]
  },
  {
   "cell_type": "code",
   "execution_count": null,
   "metadata": {},
   "outputs": [],
   "source": [
    "df['Pesquisa'] = df['Titulo'] + \" \" + df['Artista']\n",
    "df['Pesquisa'] = df['Pesquisa'].str.replace('LIVE', '')\n",
    "# df.head()"
   ]
  },
  {
   "cell_type": "code",
   "execution_count": null,
   "metadata": {},
   "outputs": [],
   "source": [
    "df['Letra'] = ''\n",
    "# df.head()"
   ]
  },
  {
   "cell_type": "code",
   "execution_count": null,
   "metadata": {},
   "outputs": [],
   "source": [
    "pesquisa = df['Pesquisa'].tolist()"
   ]
  },
  {
   "cell_type": "code",
   "execution_count": null,
   "metadata": {},
   "outputs": [],
   "source": [
    "capa = DesiredCapabilities.CHROME\n",
    "\n",
    "capa[\"pageLoadStrategy\"] = \"none\"\n",
    "\n",
    "driver = webdriver.Chrome(service=Service(ChromeDriverManager().install()), desired_capabilities=capa)\n",
    "\n",
    "actions = ActionChains(driver)\n",
    "\n",
    "wait = WebDriverWait(driver, 20)\n",
    "\n",
    "url = \"https://www.google.com\".encode('ascii', 'ignore').decode('unicode_escape')\n"
   ]
  },
  {
   "cell_type": "code",
   "execution_count": null,
   "metadata": {},
   "outputs": [],
   "source": [
    "for music in pesquisa:\n",
    "    musica = str(music)\n",
    "    musica = musica.encode('ascii', 'ignore').decode('unicode_escape')\n",
    "    driver.get(url)\n",
    "    wait.until(EC.presence_of_element_located((By.XPATH, '/html/body/div[1]/div[3]/form/div[1]/div[1]/div[1]/div/div[2]/input')))\n",
    "    driver.execute_script(\"window.stop();\")\n",
    "    driver.find_element(By.XPATH, '/html/body/div[1]/div[3]/form/div[1]/div[1]/div[1]/div/div[2]/input').send_keys(musica)\n",
    "    driver.find_element(By.XPATH, '/html/body/div[1]/div[3]/form/div[1]/div[1]/div[1]/div/div[2]/input').send_keys(Keys.ENTER)\n",
    "    time.sleep(3)\n",
    "    elems = driver.find_elements(By.XPATH, \"//a[@href]\")\n",
    "    for elem in elems:\n",
    "        if \"https://www.letras.mus.br\" in elem.get_attribute(\"href\"):\n",
    "            web = str(elem.get_attribute(\"href\")).encode('ascii', 'ignore').decode('unicode_escape')\n",
    "            driver.get(url=web)\n",
    "            try:\n",
    "                wait.until(EC.presence_of_element_located((By.CLASS_NAME, \"cnt-letra\")))\n",
    "                driver.execute_script(\"window.stop();\")\n",
    "                letra = driver.find_element(By.CLASS_NAME, \"cnt-letra\").text\n",
    "                df.loc[df[df['Pesquisa'] == musica].index[0], \"Letra\"] = letra\n",
    "            except:\n",
    "                print(Exception)\n",
    "                print(music)\n",
    "            break"
   ]
  },
  {
   "cell_type": "code",
   "execution_count": null,
   "metadata": {},
   "outputs": [],
   "source": [
    "# Pesquisar no google titulo + artista\n",
    "# Usar o soup para pegar os links\n",
    "# Pegar o link que começa com letras.mus.br\n",
    "# Entrar no link e pegar a letra da musica"
   ]
  }
 ],
 "metadata": {
  "kernelspec": {
   "display_name": "Python 3",
   "language": "python",
   "name": "python3"
  },
  "language_info": {
   "codemirror_mode": {
    "name": "ipython",
    "version": 3
   },
   "file_extension": ".py",
   "mimetype": "text/x-python",
   "name": "python",
   "nbconvert_exporter": "python",
   "pygments_lexer": "ipython3",
   "version": "3.7.0b4"
  },
  "orig_nbformat": 4
 },
 "nbformat": 4,
 "nbformat_minor": 2
}
