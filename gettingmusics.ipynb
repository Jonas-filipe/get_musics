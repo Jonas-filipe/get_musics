{
 "cells": [
  {
   "cell_type": "code",
   "execution_count": 1,
   "metadata": {},
   "outputs": [],
   "source": [
    "# import numpy as np\n",
    "import pandas as pd\n",
    "# import sys\n",
    "import time\n",
    "import tabula\n",
    "from selenium import webdriver\n",
    "from selenium.webdriver.common.by import By\n",
    "from selenium.webdriver.chrome.options import Options\n",
    "from selenium.webdriver.chrome.service import Service\n",
    "from selenium.webdriver.common.keys import Keys\n",
    "from selenium.webdriver.common.action_chains import ActionChains\n",
    "from webdriver_manager.chrome import ChromeDriverManager\n",
    "from selenium.webdriver.common.desired_capabilities import DesiredCapabilities\n",
    "from selenium.webdriver.support.ui import WebDriverWait\n",
    "from selenium.webdriver.support import expected_conditions as EC"
   ]
  },
  {
   "cell_type": "code",
   "execution_count": null,
   "metadata": {},
   "outputs": [],
   "source": [
    "# file_path = \"/Users/jonas/Documents/GitHub/get_musics/TOP100BrasilTheCrowleyOfficialBroadcast2021.pdf\"\n",
    "# arquivo_pdf = tabula.read_pdf(file_path, pages='all')\n",
    "# df = arquivo_pdf[0]\n",
    "# df.rename(columns={df.columns[0]: \"Ranking\", df.columns[1]: \"Titulo\", df.columns[2]: \"Artista\", df.columns[3]: \"Selo\", df.columns[4]: \"Execucoes\"}, inplace=True)\n",
    "# a = arquivo_pdf[2]\n",
    "# a.rename(columns={a.columns[0]: \"Ranking\", a.columns[1]: \"Titulo\", a.columns[2]: \"Artista\", a.columns[3]: \"Selo\", a.columns[4]: \"Execucoes\"}, inplace=True)\n",
    "# a.Ranking = pd.to_numeric(a.Ranking)\n",
    "# df = df.loc[df.index[3:]]\n",
    "# df.Ranking = pd.to_numeric(df.Ranking)\n",
    "# df = df.append(a)\n",
    "# df.sort_values(by=['Ranking'], inplace=True)\n",
    "# df.reset_index(drop=True, inplace=True)\n",
    "# df.head(10)"
   ]
  },
  {
   "cell_type": "code",
   "execution_count": 2,
   "metadata": {},
   "outputs": [],
   "source": [
    "chrome_options = Options()\n",
    "chrome_options.add_argument(\"--headless\")"
   ]
  },
  {
   "cell_type": "code",
   "execution_count": 3,
   "metadata": {},
   "outputs": [],
   "source": [
    "capa = DesiredCapabilities.CHROME\n",
    "\n",
    "capa[\"pageLoadStrategy\"] = \"none\"\n",
    "\n",
    "driver = webdriver.Chrome(service=Service(ChromeDriverManager().install()), desired_capabilities=capa, options=chrome_options)\n",
    "\n",
    "actions = ActionChains(driver)\n",
    "\n",
    "wait = WebDriverWait(driver, 20)\n"
   ]
  },
  {
   "cell_type": "code",
   "execution_count": 4,
   "metadata": {},
   "outputs": [
    {
     "name": "stdout",
     "output_type": "stream",
     "text": [
      "<class 'pandas.core.frame.DataFrame'>\n",
      "RangeIndex: 2300 entries, 0 to 2299\n",
      "Data columns (total 3 columns):\n",
      " #   Column   Non-Null Count  Dtype \n",
      "---  ------   --------------  ----- \n",
      " 0   Musica   2300 non-null   object\n",
      " 1   Artista  2300 non-null   object\n",
      " 2   Ano      2300 non-null   object\n",
      "dtypes: object(3)\n",
      "memory usage: 54.0+ KB\n"
     ]
    }
   ],
   "source": [
    "anos = [*range(2000, 2023, 1)]\n",
    "anos = [str(x) for x in anos]\n",
    "\n",
    "df = pd.DataFrame()\n",
    "for i in anos:\n",
    "    url = \"https://maistocadas.mus.br/\"+i+\"/\".encode('ascii', 'ignore').decode('unicode_escape')\n",
    "    driver.get(url)\n",
    "    wait.until(EC.presence_of_element_located((By.CLASS_NAME, \"musicas\")))\n",
    "    driver.execute_script(\"window.stop();\")\n",
    "    musicas = driver.find_elements(By.CLASS_NAME, \"musicas\")\n",
    "    artistas = driver.find_elements(By.CLASS_NAME, \"artista\")\n",
    "\n",
    "    d = []\n",
    "    for m, a in zip(musicas, artistas):\n",
    "        d.append(\n",
    "            {\n",
    "                'Musica': m.text,\n",
    "                'Artista': a.text,\n",
    "                'Ano': i\n",
    "            }\n",
    "        )\n",
    "    aux = pd.DataFrame(d)\n",
    "    df = df.append(aux, ignore_index=True)\n",
    "driver.close()\n",
    "df.info()"
   ]
  },
  {
   "cell_type": "code",
   "execution_count": null,
   "metadata": {},
   "outputs": [],
   "source": [
    "df['Pesquisa'] = df['Musica'] + \" \" + df['Artista']\n",
    "df['Pesquisa'] = df['Pesquisa'].str.replace('LIVE', '')\n",
    "df['Letra'] = ''\n",
    "df['Gringo'] = 'nao'"
   ]
  },
  {
   "cell_type": "code",
   "execution_count": null,
   "metadata": {},
   "outputs": [],
   "source": [
    "anos_recentes = ['2010','2011','2012','2013','2014','2015','2016','2017','2018','2019','2020','2021','2022']\n",
    "pesquisa = df[df['Ano'].isin(anos_recentes)]['Pesquisa'].tolist()\n",
    "url = \"https://www.google.com\".encode('ascii', 'ignore').decode('unicode_escape')"
   ]
  },
  {
   "cell_type": "code",
   "execution_count": null,
   "metadata": {},
   "outputs": [],
   "source": [
    "driver = webdriver.Chrome(service=Service(ChromeDriverManager().install()), desired_capabilities=capa)\n",
    "# , options=chrome_options)\n",
    "\n",
    "actions = ActionChains(driver)\n",
    "\n",
    "wait = WebDriverWait(driver, 12)"
   ]
  },
  {
   "cell_type": "code",
   "execution_count": null,
   "metadata": {},
   "outputs": [],
   "source": [
    "# driver = webdriver.Chrome(service=Service(ChromeDriverManager().install()), desired_capabilities=capa)\n",
    "# actions = ActionChains(driver)\n",
    "# wait = WebDriverWait(driver, 6)\n",
    "\n",
    "# musica = str(pesquisa[0])\n",
    "# # musica = musica.encode('ascii', 'ignore').decode('unicode_escape')\n",
    "# driver.get(url)\n",
    "# wait.until(EC.presence_of_element_located((By.XPATH, '//*[@id=\"APjFqb\"]')))\n",
    "# driver.execute_script(\"window.stop();\")\n",
    "# driver.find_element(By.XPATH, '//*[@id=\"APjFqb\"]').send_keys(musica)\n",
    "# driver.find_element(By.XPATH, '//*[@id=\"APjFqb\"]').send_keys(Keys.ENTER)\n",
    "# time.sleep(2)"
   ]
  },
  {
   "cell_type": "code",
   "execution_count": null,
   "metadata": {},
   "outputs": [],
   "source": [
    "for music in pesquisa:\n",
    "    musica = str(music)\n",
    "    # musica = musica.encode('ascii', 'ignore').decode('unicode_escape')\n",
    "    driver.get(url)\n",
    "    wait.until(EC.presence_of_element_located((By.XPATH, '/html/body/div[1]/div[3]/form/div[1]/div[1]/div[1]/div/div[2]/textarea')))\n",
    "    driver.execute_script(\"window.stop();\")\n",
    "    driver.find_element(By.XPATH, '/html/body/div[1]/div[3]/form/div[1]/div[1]/div[1]/div/div[2]/textarea').send_keys(musica)\n",
    "    driver.find_element(By.XPATH, '/html/body/div[1]/div[3]/form/div[1]/div[1]/div[1]/div/div[2]/textarea').send_keys(Keys.ENTER)\n",
    "    time.sleep(2)\n",
    "    # wait.until(EC.presence_of_element_located((By.XPATH, \"//a[@href]\")))\n",
    "    # driver.execute_script(\"window.stop();\")\n",
    "\n",
    "    elems = driver.find_elements(By.XPATH, \"//a[@href]\")\n",
    "    for elem in elems:\n",
    "        if \"https://www.letras.mus.br\" in elem.get_attribute(\"href\"):\n",
    "            web = str(elem.get_attribute(\"href\")).encode('ascii', 'ignore').decode('unicode_escape')\n",
    "            driver.get(url=web)\n",
    "            try:\n",
    "                wait.until(EC.presence_of_element_located((By.CLASS_NAME, \"cnt-letra\")))\n",
    "                driver.execute_script(\"window.stop();\")\n",
    "                letra = driver.find_element(By.CLASS_NAME, \"cnt-letra\").text\n",
    "                df.loc[df[df['Pesquisa'] == musica].index[0], \"Letra\"] = letra\n",
    "            except:\n",
    "                try:\n",
    "                    wait.until(EC.presence_of_element_located((By.CLASS_NAME, \"cnt-trad_l\")))\n",
    "                    driver.execute_script(\"window.stop();\")\n",
    "                    letra = driver.find_element(By.CLASS_NAME, \"cnt-trad_l\").text\n",
    "                    df.loc[df[df['Pesquisa'] == musica].index[0], \"Letra\"] = letra\n",
    "                    df.loc[df[df['Pesquisa'] == musica].index[0], \"Gringo\"] = 'sim'\n",
    "                except:\n",
    "                    try:\n",
    "                        wait.until(EC.presence_of_element_located((By.CLASS_NAME, \"bt-play-song\")))\n",
    "                        driver.execute_script(\"window.stop();\")\n",
    "                        driver.find_element(By.CLASS_NAME, \"bt-play-song\").click()\n",
    "                        wait.until(EC.presence_of_element_located((By.CLASS_NAME, \"cnt-letra\")))\n",
    "                        driver.execute_script(\"window.stop();\")\n",
    "                        letra = driver.find_element(By.CLASS_NAME, \"cnt-letra\").text\n",
    "                        df.loc[df[df['Pesquisa'] == musica].index[0], \"Letra\"] = letra\n",
    "                    except:\n",
    "                        print(Exception)\n",
    "                        print(musica)\n",
    "            break\n",
    "driver.close()"
   ]
  },
  {
   "attachments": {},
   "cell_type": "markdown",
   "metadata": {},
   "source": [
    "Nova tentativa"
   ]
  },
  {
   "cell_type": "code",
   "execution_count": null,
   "metadata": {},
   "outputs": [],
   "source": [
    "# # driver = webdriver.Chrome(service=Service(ChromeDriverManager().install()), desired_capabilities=capa, options=chrome_options)\n",
    "# i=3\n",
    "# while df[df['Letra']==''].shape[1] != 0 or i!=0:\n",
    "#     musicas = df[df['Letra']=='']['Pesquisa'].tolist()\n",
    "#     for music in musicas:\n",
    "#         musica = str(music)\n",
    "#         # musica = musica.encode('ascii', 'ignore').decode('unicode_escape')\n",
    "#         driver.get(url)\n",
    "#         wait.until(EC.presence_of_element_located((By.XPATH, '/html/body/div[1]/div[3]/form/div[1]/div[1]/div[1]/div/div[2]/input')))\n",
    "#         driver.execute_script(\"window.stop();\")\n",
    "#         driver.find_element(By.XPATH, '/html/body/div[1]/div[3]/form/div[1]/div[1]/div[1]/div/div[2]/input').send_keys(musica)\n",
    "#         driver.find_element(By.XPATH, '/html/body/div[1]/div[3]/form/div[1]/div[1]/div[1]/div/div[2]/input').send_keys(Keys.ENTER)\n",
    "#         time.sleep(4)\n",
    "#         # wait.until(EC.presence_of_element_located((By.XPATH, \"//a[@href]\")))\n",
    "#         # driver.execute_script(\"window.stop();\")\n",
    "#         elems = driver.find_elements(By.XPATH, \"//a[@href]\")\n",
    "#         for elem in elems:\n",
    "#             if \"https://www.letras.mus.br\" in elem.get_attribute(\"href\"):\n",
    "#                 web = str(elem.get_attribute(\"href\")).encode('ascii', 'ignore').decode('unicode_escape')\n",
    "#                 driver.get(url=web)\n",
    "#                 try:\n",
    "#                     wait.until(EC.presence_of_element_located((By.CLASS_NAME, \"cnt-letra\")))\n",
    "#                     driver.execute_script(\"window.stop();\")\n",
    "#                     letra = driver.find_element(By.CLASS_NAME, \"cnt-letra\").text\n",
    "#                     df.loc[df[df['Pesquisa'] == musica].index[0], \"Letra\"] = letra\n",
    "#                 except:\n",
    "#                     try:\n",
    "#                         wait.until(EC.presence_of_element_located((By.CLASS_NAME, \"cnt-trad_r \")))\n",
    "#                         driver.execute_script(\"window.stop();\")\n",
    "#                         letra = driver.find_element(By.CLASS_NAME, \"cnt-trad_r \").text\n",
    "#                         df.loc[df[df['Pesquisa'] == musica].index[0], \"Letra\"] = letra \n",
    "#                         df.loc[df[df['Pesquisa'] == musica].index[0], \"Gringo\"] = 'sim'\n",
    "#                     except:\n",
    "#                         try:\n",
    "#                             wait.until(EC.presence_of_element_located((By.CLASS_NAME, \"bt-play-song\")))\n",
    "#                             driver.execute_script(\"window.stop();\")\n",
    "#                             driver.find_element(By.CLASS_NAME, \"bt-play-song\").click()\n",
    "#                             wait.until(EC.presence_of_element_located((By.CLASS_NAME, \"cnt-letra\")))\n",
    "#                             driver.execute_script(\"window.stop();\")\n",
    "#                             letra = driver.find_element(By.CLASS_NAME, \"cnt-letra\").text\n",
    "#                             df.loc[df[df['Pesquisa'] == musica].index[0], \"Letra\"] = letra\n",
    "#                         except:\n",
    "#                             print(Exception)\n",
    "#                             print(musica)\n",
    "#                 break\n",
    "#     i=i-1"
   ]
  },
  {
   "cell_type": "code",
   "execution_count": null,
   "metadata": {},
   "outputs": [],
   "source": []
  }
 ],
 "metadata": {
  "kernelspec": {
   "display_name": "Python 3",
   "language": "python",
   "name": "python3"
  },
  "language_info": {
   "codemirror_mode": {
    "name": "ipython",
    "version": 3
   },
   "file_extension": ".py",
   "mimetype": "text/x-python",
   "name": "python",
   "nbconvert_exporter": "python",
   "pygments_lexer": "ipython3",
   "version": "3.7.0b4"
  },
  "orig_nbformat": 4
 },
 "nbformat": 4,
 "nbformat_minor": 2
}
