{
 "cells": [
  {
   "cell_type": "code",
   "execution_count": 1,
   "metadata": {},
   "outputs": [],
   "source": [
    "import numpy as np\n",
    "import pandas as pd\n",
    "import sys\n",
    "import time\n",
    "import tabula\n",
    "from selenium import webdriver\n",
    "from selenium.webdriver.common.by import By\n",
    "from selenium.webdriver.chrome.options import Options\n",
    "from selenium.webdriver.chrome.service import Service\n",
    "from selenium.webdriver.common.keys import Keys\n",
    "from selenium.webdriver.common.action_chains import ActionChains\n",
    "from webdriver_manager.chrome import ChromeDriverManager\n",
    "from selenium.webdriver.common.desired_capabilities import DesiredCapabilities\n",
    "from selenium.webdriver.support.ui import WebDriverWait\n",
    "from selenium.webdriver.support import expected_conditions as EC"
   ]
  },
  {
   "cell_type": "code",
   "execution_count": 2,
   "metadata": {},
   "outputs": [],
   "source": [
    "# chrome_options = Options()\n",
    "# chrome_options.add_argument(\"--headless\")"
   ]
  },
  {
   "cell_type": "code",
   "execution_count": 3,
   "metadata": {},
   "outputs": [],
   "source": [
    "# import requests\n",
    "# url = \"https://www.crowley.com.br/cbab/relatorios/mailing_anual/TOP100BrasilTheCrowleyOfficialBroadcast2021.pdf\"\n",
    "# response = requests.get(url)\n",
    "# response = requests.get(url.get('href'))\n",
    "# pdf = open(\"pdf1.pdf\", 'wb')\n",
    "# pdf.write(response.content)\n",
    "# pdf.close()"
   ]
  },
  {
   "cell_type": "code",
   "execution_count": 4,
   "metadata": {},
   "outputs": [],
   "source": [
    "# import requests\n",
    "# import os\n",
    "# url = \"https://www.crowley.com.br/cbab/relatorios/mailing_anual/TOP100BrasilTheCrowleyOfficialBroadcast2021.pdf\"\n",
    "# response = requests.get(url, stream=True)\n",
    "\n",
    "# # isolate PDF filename from URL\n",
    "# pdf_file_name = os.path.basename(url)\n",
    "# if response.status_code == 200:\n",
    "#     # Save in current working directory\n",
    "#     filepath = os.path.join(os.getcwd(), pdf_file_name)\n",
    "#     with open(filepath, 'wb') as pdf_object:\n",
    "#         pdf_object.write(response.content)\n",
    "#         print(f'{pdf_file_name} was successfully saved!')\n",
    "# else:\n",
    "#     print(f'Uh oh! Could not download {pdf_file_name},')\n",
    "#     print(f'HTTP response status code: {response.status_code}')"
   ]
  },
  {
   "cell_type": "code",
   "execution_count": 5,
   "metadata": {},
   "outputs": [
    {
     "data": {
      "text/html": [
       "<div>\n",
       "<style scoped>\n",
       "    .dataframe tbody tr th:only-of-type {\n",
       "        vertical-align: middle;\n",
       "    }\n",
       "\n",
       "    .dataframe tbody tr th {\n",
       "        vertical-align: top;\n",
       "    }\n",
       "\n",
       "    .dataframe thead th {\n",
       "        text-align: right;\n",
       "    }\n",
       "</style>\n",
       "<table border=\"1\" class=\"dataframe\">\n",
       "  <thead>\n",
       "    <tr style=\"text-align: right;\">\n",
       "      <th></th>\n",
       "      <th>Ranking</th>\n",
       "      <th>Titulo</th>\n",
       "      <th>Artista</th>\n",
       "      <th>Selo</th>\n",
       "      <th>Execucoes</th>\n",
       "    </tr>\n",
       "  </thead>\n",
       "  <tbody>\n",
       "    <tr>\n",
       "      <th>0</th>\n",
       "      <td>1</td>\n",
       "      <td>FACAS</td>\n",
       "      <td>DIEGO &amp; VICTOR HUGO Part.BRUNO &amp; MARRONE</td>\n",
       "      <td>SONY MUSIC</td>\n",
       "      <td>74065.0</td>\n",
       "    </tr>\n",
       "    <tr>\n",
       "      <th>1</th>\n",
       "      <td>2</td>\n",
       "      <td>FICHA LIMPA</td>\n",
       "      <td>GUSTTAVO LIMA</td>\n",
       "      <td>SONY MUSIC</td>\n",
       "      <td>66929.0</td>\n",
       "    </tr>\n",
       "    <tr>\n",
       "      <th>2</th>\n",
       "      <td>3</td>\n",
       "      <td>MORENA</td>\n",
       "      <td>LUAN SANTANA</td>\n",
       "      <td>SONY MUSIC</td>\n",
       "      <td>61484.0</td>\n",
       "    </tr>\n",
       "    <tr>\n",
       "      <th>3</th>\n",
       "      <td>4</td>\n",
       "      <td>DESPEDIDA DE CASAL</td>\n",
       "      <td>GUSTAVO MIOTO</td>\n",
       "      <td>UNIVERSAL</td>\n",
       "      <td>59654.0</td>\n",
       "    </tr>\n",
       "    <tr>\n",
       "      <th>4</th>\n",
       "      <td>5</td>\n",
       "      <td>BATOM DE CEREJA - LIVE</td>\n",
       "      <td>ISRAEL &amp; RODOLFFO</td>\n",
       "      <td>SOM LIVRE</td>\n",
       "      <td>53898.0</td>\n",
       "    </tr>\n",
       "    <tr>\n",
       "      <th>5</th>\n",
       "      <td>6</td>\n",
       "      <td>DESBLOQUEADO</td>\n",
       "      <td>DIEGO &amp; VICTOR HUGO</td>\n",
       "      <td>SONY MUSIC</td>\n",
       "      <td>53864.0</td>\n",
       "    </tr>\n",
       "    <tr>\n",
       "      <th>6</th>\n",
       "      <td>7</td>\n",
       "      <td>SIGILO</td>\n",
       "      <td>GUILHERME &amp; BENUTO</td>\n",
       "      <td>SONY MUSIC</td>\n",
       "      <td>52060.0</td>\n",
       "    </tr>\n",
       "    <tr>\n",
       "      <th>7</th>\n",
       "      <td>8</td>\n",
       "      <td>ULTIMO BEIJO</td>\n",
       "      <td>BRUNO &amp; MARRONE Part.WESLEY SAFADAO</td>\n",
       "      <td>INDEPENDENTE</td>\n",
       "      <td>48990.0</td>\n",
       "    </tr>\n",
       "    <tr>\n",
       "      <th>8</th>\n",
       "      <td>9</td>\n",
       "      <td>MOCA DO CAIXA</td>\n",
       "      <td>RAFFA TORRES</td>\n",
       "      <td>INDEPENDENTE</td>\n",
       "      <td>48534.0</td>\n",
       "    </tr>\n",
       "    <tr>\n",
       "      <th>9</th>\n",
       "      <td>10</td>\n",
       "      <td>ARRANHAO - LIVE</td>\n",
       "      <td>HENRIQUE &amp; JULIANO</td>\n",
       "      <td>VIRGIN MUSIC</td>\n",
       "      <td>46446.0</td>\n",
       "    </tr>\n",
       "  </tbody>\n",
       "</table>\n",
       "</div>"
      ],
      "text/plain": [
       "   Ranking                  Titulo                                   Artista  \\\n",
       "0        1                   FACAS  DIEGO & VICTOR HUGO Part.BRUNO & MARRONE   \n",
       "1        2             FICHA LIMPA                             GUSTTAVO LIMA   \n",
       "2        3                  MORENA                              LUAN SANTANA   \n",
       "3        4      DESPEDIDA DE CASAL                             GUSTAVO MIOTO   \n",
       "4        5  BATOM DE CEREJA - LIVE                         ISRAEL & RODOLFFO   \n",
       "5        6            DESBLOQUEADO                       DIEGO & VICTOR HUGO   \n",
       "6        7                  SIGILO                        GUILHERME & BENUTO   \n",
       "7        8            ULTIMO BEIJO       BRUNO & MARRONE Part.WESLEY SAFADAO   \n",
       "8        9           MOCA DO CAIXA                              RAFFA TORRES   \n",
       "9       10         ARRANHAO - LIVE                        HENRIQUE & JULIANO   \n",
       "\n",
       "           Selo  Execucoes  \n",
       "0    SONY MUSIC    74065.0  \n",
       "1    SONY MUSIC    66929.0  \n",
       "2    SONY MUSIC    61484.0  \n",
       "3     UNIVERSAL    59654.0  \n",
       "4     SOM LIVRE    53898.0  \n",
       "5    SONY MUSIC    53864.0  \n",
       "6    SONY MUSIC    52060.0  \n",
       "7  INDEPENDENTE    48990.0  \n",
       "8  INDEPENDENTE    48534.0  \n",
       "9  VIRGIN MUSIC    46446.0  "
      ]
     },
     "execution_count": 5,
     "metadata": {},
     "output_type": "execute_result"
    }
   ],
   "source": [
    "file_path = \"/Users/jonas/Documents/GitHub/get_musics/TOP100BrasilTheCrowleyOfficialBroadcast2021.pdf\"\n",
    "arquivo_pdf = tabula.read_pdf(file_path, pages='all')\n",
    "df = arquivo_pdf[0]\n",
    "df.rename(columns={df.columns[0]: \"Ranking\", df.columns[1]: \"Titulo\", df.columns[2]: \"Artista\", df.columns[3]: \"Selo\", df.columns[4]: \"Execucoes\"}, inplace=True)\n",
    "a = arquivo_pdf[2]\n",
    "a.rename(columns={a.columns[0]: \"Ranking\", a.columns[1]: \"Titulo\", a.columns[2]: \"Artista\", a.columns[3]: \"Selo\", a.columns[4]: \"Execucoes\"}, inplace=True)\n",
    "a.Ranking = pd.to_numeric(a.Ranking)\n",
    "df = df.loc[df.index[3:]]\n",
    "df.Ranking = pd.to_numeric(df.Ranking)\n",
    "df = df.append(a)\n",
    "df.sort_values(by=['Ranking'], inplace=True)\n",
    "df.reset_index(drop=True, inplace=True)\n",
    "df.head(10)"
   ]
  },
  {
   "cell_type": "code",
   "execution_count": 6,
   "metadata": {},
   "outputs": [],
   "source": [
    "df['Pesquisa'] = df['Titulo'] + \" \" + df['Artista']\n",
    "df['Pesquisa'] = df['Pesquisa'].str.replace('LIVE', '')\n",
    "# df.head()"
   ]
  },
  {
   "cell_type": "code",
   "execution_count": 7,
   "metadata": {},
   "outputs": [],
   "source": [
    "df['Letra'] = ''\n",
    "# df.head()"
   ]
  },
  {
   "cell_type": "code",
   "execution_count": 8,
   "metadata": {},
   "outputs": [],
   "source": [
    "pesquisa = df['Pesquisa'].tolist()"
   ]
  },
  {
   "cell_type": "code",
   "execution_count": 9,
   "metadata": {},
   "outputs": [],
   "source": [
    "capa = DesiredCapabilities.CHROME\n",
    "\n",
    "capa[\"pageLoadStrategy\"] = \"none\"\n",
    "\n",
    "driver = webdriver.Chrome(service=Service(ChromeDriverManager().install()), desired_capabilities=capa)\n",
    "\n",
    "actions = ActionChains(driver)\n",
    "\n",
    "wait = WebDriverWait(driver, 20)\n",
    "\n",
    "url = \"https://www.google.com\".encode('ascii', 'ignore').decode('unicode_escape')\n"
   ]
  },
  {
   "cell_type": "code",
   "execution_count": 10,
   "metadata": {},
   "outputs": [
    {
     "name": "stdout",
     "output_type": "stream",
     "text": [
      "<class 'Exception'>\n",
      "1 HORA E MEIA ZEZE DI CAMARGO & LUCIANO\n",
      "<class 'Exception'>\n",
      "GIRL FROM RIO ANITTA\n",
      "<class 'Exception'>\n",
      "WATERMELON SUGAR HARRY STYLES\n",
      "<class 'Exception'>\n",
      "SAVE YOUR TEARS WEEKND, THE\n",
      "<class 'Exception'>\n",
      "LEVITATING DUA LIPA Part.DABABY\n",
      "<class 'Exception'>\n",
      "BLINDING LIGHTS WEEKND, THE\n"
     ]
    }
   ],
   "source": [
    "for music in pesquisa:\n",
    "    musica = str(music)\n",
    "    musica = musica.encode('ascii', 'ignore').decode('unicode_escape')\n",
    "    driver.get(url)\n",
    "    wait.until(EC.presence_of_element_located((By.XPATH, '/html/body/div[1]/div[3]/form/div[1]/div[1]/div[1]/div/div[2]/input')))\n",
    "    driver.execute_script(\"window.stop();\")\n",
    "    driver.find_element(By.XPATH, '/html/body/div[1]/div[3]/form/div[1]/div[1]/div[1]/div/div[2]/input').send_keys(musica)\n",
    "    driver.find_element(By.XPATH, '/html/body/div[1]/div[3]/form/div[1]/div[1]/div[1]/div/div[2]/input').send_keys(Keys.ENTER)\n",
    "\n",
    "    wait.until(EC.presence_of_element_located((By.XPATH, \"//a[@href]\")))\n",
    "    driver.execute_script(\"window.stop();\")\n",
    "\n",
    "    elems = driver.find_elements(By.XPATH, \"//a[@href]\")\n",
    "    for elem in elems:\n",
    "        if \"https://www.letras.mus.br\" in elem.get_attribute(\"href\"):\n",
    "            web = str(elem.get_attribute(\"href\")).encode('ascii', 'ignore').decode('unicode_escape')\n",
    "            driver.get(url=web)\n",
    "            try:\n",
    "                wait.until(EC.presence_of_element_located((By.CLASS_NAME, \"cnt-letra\")))\n",
    "                driver.execute_script(\"window.stop();\")\n",
    "                letra = driver.find_element(By.CLASS_NAME, \"cnt-letra\").text\n",
    "                df.loc[df[df['Pesquisa'] == musica].index[0], \"Letra\"] = letra\n",
    "            except:\n",
    "                print(Exception)\n",
    "                print(music)\n",
    "            break\n",
    "driver.close()"
   ]
  },
  {
   "cell_type": "code",
   "execution_count": 11,
   "metadata": {},
   "outputs": [],
   "source": [
    "# Pesquisar no google titulo + artista\n",
    "# Usar o soup para pegar os links\n",
    "# Pegar o link que começa com letras.mus.br\n",
    "# Entrar no link e pegar a letra da musica"
   ]
  },
  {
   "attachments": {},
   "cell_type": "markdown",
   "metadata": {},
   "source": [
    "Problema quando a música é gringa\n",
    "Problema quando a musica tem o memso nome que o album"
   ]
  }
 ],
 "metadata": {
  "kernelspec": {
   "display_name": "Python 3",
   "language": "python",
   "name": "python3"
  },
  "language_info": {
   "codemirror_mode": {
    "name": "ipython",
    "version": 3
   },
   "file_extension": ".py",
   "mimetype": "text/x-python",
   "name": "python",
   "nbconvert_exporter": "python",
   "pygments_lexer": "ipython3",
   "version": "3.7.0b4"
  },
  "orig_nbformat": 4
 },
 "nbformat": 4,
 "nbformat_minor": 2
}
